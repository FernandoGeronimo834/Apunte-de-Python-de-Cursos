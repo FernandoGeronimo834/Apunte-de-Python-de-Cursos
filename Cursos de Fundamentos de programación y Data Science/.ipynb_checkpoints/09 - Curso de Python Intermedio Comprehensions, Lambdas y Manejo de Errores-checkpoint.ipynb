{
 "cells": [
  {
   "cell_type": "markdown",
   "id": "e54e2891",
   "metadata": {},
   "source": [
    "## Que es un entorno virtual?\n",
    "\n",
    "Es un python aislado para un solo proyecto, que tiene sus propios modulos, y esta pensado para funcionar unicamente con ese proyecto.\n",
    "\n",
    "## Crear un entorno virtual:\n",
    "### En cmd:\n",
    "- Creo un carpeta donde voy a desarrollar mi proyecto, con --> mkdir nombre_de_la_carpeta\n",
    "- Ingreso a la carpeta con --> cd nombre_de_la_carpeta\n",
    "\n",
    "Para crear un python que funcione solo en esa carpeta:\n",
    "- Ingresar el siguiente comando:    **`py -m venv venv`**--> Donde -m llama a un modulo interno de python, \"venv\" es el nombre del modulo el cual hace referencia a un entorno virtual, \"venv\" es el nombre que le llamaremos a nuestro entorno virtual, normalmente se usa \"venv\", por eso \"venv\" se repite dos veces en el codigo; al dar enter se nos creara un python especifico solo para este proyecto, donde nostros podremos crear y actualizar los modulos usados en ese proyecto a gusto, sin tocar el python global instalado en nuestra computadora.\n",
    "- Luego de usar el comando se creara una carpeta llamada **venv**, en la carpeta donde desarrollaremos el proyecto.\n",
    "- PRECAUCIÓN: Con que el entorno virtual este creado, no es suficiente, sino que debemos entrar al entorno, y activarlo.\n",
    "\n",
    "Activar el entorno Virtual:\n",
    "\n",
    "\n",
    "- Para linux o Mac:  **`source venv/bin/activate`**\n",
    "- Para Windows: **`.\\venv\\Scripts\\activate`**\n",
    "\n",
    "Al activar el entetorno virtual Podre observar que me aparecera **(venv)** en la consola, antes de escribit algun codigo.\n",
    "\n",
    "Salir del entorno Virtual:\n",
    "- **`deactivate`**\n",
    "\n",
    "Crear un Alias para Activar el entorno virtual, cada que necesitemos activarlo, solo usaremos el alias:\n",
    "\n",
    "- Windows: **`<doskey o alias> avenv=.\\venv\\Scripts\\activate`**  \n",
    "- Luego para activar y entrar al entorno virtual usamos el alias **`avenv`**\n",
    "- Luego para desactivar y salir del entorno virtual usamos: **`deactivate`**\n",
    "\n"
   ]
  },
  {
   "cell_type": "markdown",
   "id": "7f4b11c3",
   "metadata": {},
   "source": [
    "## Instalacion de dependencias con PIP\n",
    "\n",
    "Son modulos creados por terceros, los cuales si deseamos usarlos en nuestro proyecto, debo instalar esos modulos.\n",
    "\n",
    "### Instalacion de modulos de Teceros dentro de nuestro entorno virtual:\n",
    "Hacemos esto para evitar instalar los modulos de teceros (no oficiales de Python) en nuestro python global.\n",
    "- Iniciamos nuestro entorno virtual con --> **`avenv`** (Alias creado con anterioridad).\n",
    "- Ver los modulos instalados en este momento: **`pip freeze`**\n",
    "- Instalar un modulo en nuestro entorno virtual: Ej: **`pip install pandas`** , Donde pandas es el nombre del modulo que instalare.\n",
    "\n",
    "\n",
    "### Compatir mi proyecto creado en mi entorno virtual con otro desarrollador, y que esté tenga la mismas dependencias, de forma que pueda correr el proyecto sin inconvenientes:\n",
    "\n",
    "- Crear un archivo con las dependencias que usa mi proyecto, con sus repestivas versiones, de forma de evitar conflictos: **`pip freeze > requirements.txt`**\n",
    "\n",
    "### Lo que debe hacer el otro desarrollador con el archivo de dependencias para correr el proyecto sin problemas:\n",
    "\n",
    "**`pip install -r requirements.txt`**\n",
    "Donde se instalaran los modulos con sus repectivas versiones."
   ]
  },
  {
   "cell_type": "markdown",
   "id": "2ccf3b7b",
   "metadata": {},
   "source": [
    "## Crear un entorno virtual con Anaconda --> de forma grafica:\n",
    "\n",
    "Debo iniciar Anaconda Navigator:\n",
    "- En la pestala de la izquierda --> \"Envioments\"\n",
    "- Crear un entorno virtual --> Dar click en \"Create\"\n",
    "- Asigno un nombre al entorno virtual y configuro la version de Python que usare en caso de necesitar cambiar la version.\n",
    "- Doy a Create y espero.\n",
    "\n",
    "Para instalar modulos de Terceros --> como ejemplo instalare pandas:\n",
    "- Donde aparece installed lo cambio por \"All\" \n",
    "- Luego le doy a Update index... y espero.\n",
    "- Luego en el buscador, escribo \"pandas\"\n",
    "- Selecciono el modulo que tiene de nombre \"pandas\" y le doy \"check (marco la casilla)\"\n",
    "- Luego al boton \"Apply\", lo que hara es instalar esta dependencia en nuestro entorno virtual.\n",
    "- Luego le daremos nuevamente e \"Apply\" y esperamos a que el proceso termine."
   ]
  },
  {
   "cell_type": "code",
   "execution_count": null,
   "id": "2944e28b",
   "metadata": {},
   "outputs": [],
   "source": []
  }
 ],
 "metadata": {
  "kernelspec": {
   "display_name": "Python 3 (ipykernel)",
   "language": "python",
   "name": "python3"
  },
  "language_info": {
   "codemirror_mode": {
    "name": "ipython",
    "version": 3
   },
   "file_extension": ".py",
   "mimetype": "text/x-python",
   "name": "python",
   "nbconvert_exporter": "python",
   "pygments_lexer": "ipython3",
   "version": "3.9.12"
  }
 },
 "nbformat": 4,
 "nbformat_minor": 5
}
